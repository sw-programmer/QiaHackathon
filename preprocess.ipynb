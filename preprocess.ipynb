{
 "cells": [
  {
   "cell_type": "code",
   "execution_count": 12,
   "metadata": {},
   "outputs": [],
   "source": [
    "import pandas as pd\n",
    "import matplotlib.pyplot as plt"
   ]
  },
  {
   "cell_type": "code",
   "execution_count": 13,
   "metadata": {},
   "outputs": [
    {
     "name": "stdout",
     "output_type": "stream",
     "text": [
      "   Data_ID  User_ID  Gender  Age  MBTI  Q_number  \\\n",
      "0        1        1       1   30  INFP         1   \n",
      "1        2        1       1   30  INFP         2   \n",
      "2        3        1       1   30  INFP         3   \n",
      "3        4        1       1   30  INFP         4   \n",
      "4        5        1       1   30  INFP         5   \n",
      "\n",
      "                                              Answer  \n",
      "0  <아니다> 어릴 때 왕따 당한 경험이 있고 외부 활동을 좋아하지 않기 때문에 소수의...  \n",
      "1  <중립>  다양한 관심사를 탐구하진 않지만 대체로 자연과 역사에 관련된 것을 좋아하...  \n",
      "2  <그렇다> 감정 이입이 잘되어 코미디 영화에서 사람이 울고 있을 때도 울기 때문에 ...  \n",
      "3  <중립> 대비책을 세우긴 하는데 세우다가 마는 편입니다. 일의 변수가 생길 수 있고...  \n",
      "4  <아니다> 평정심을 유지 못 하는 편입니다. 머릿속은 백지화가 된 상태로 말도 제대...  \n",
      "Shape: (11520, 7)\n"
     ]
    }
   ],
   "source": [
    "df = pd.read_csv('hackathon_train.csv', encoding='utf-8')\n",
    "\n",
    "print(df.head())\n",
    "print(\"Shape: {}\".format(df.shape))"
   ]
  },
  {
   "cell_type": "code",
   "execution_count": 30,
   "metadata": {},
   "outputs": [
    {
     "name": "stdout",
     "output_type": "stream",
     "text": [
      "Number of Questions: 48\n",
      "Number of Users: 240\n",
      "After Eliminate duplicates: (240, 7)\n"
     ]
    }
   ],
   "source": [
    "num_q = max(df['Q_number'])\n",
    "print(\"Number of Questions: {}\".format(num_q))\n",
    "\n",
    "df_drop = df.drop_duplicates([\"User_ID\"], keep=\"first\")\n",
    "num_user = df_drop.shape[0]\n",
    "print(\"Number of Users: {}\".format(num_user))\n",
    "\n",
    "assert df.shape[0] == num_user * num_q ## 한 사람 당 48개의 질문\n",
    "print(\"After Eliminate duplicates: {}\".format(df_drop.shape))"
   ]
  },
  {
   "cell_type": "code",
   "execution_count": 15,
   "metadata": {},
   "outputs": [],
   "source": [
    "# Statistic for gender\n",
    "## 1, 0 중 누가 남자인지 공개되지는 않음\n",
    "\n",
    "man = len(df_drop.loc[df_drop['Gender'] == 1]) \n",
    "woman = len(df_drop.loc[df_drop['Gender'] == 0])\n",
    "\n",
    "assert man + woman == df_drop.shape[0]\n",
    "\n",
    "gender_ratio = [man, woman]\n",
    "gender_labels = ['1', '0']\n",
    "\n",
    "## plt.pie(gender_ratio, labels=gender_labels, autopct='%.1f%%')\n",
    "## plt.show()"
   ]
  },
  {
   "cell_type": "code",
   "execution_count": 16,
   "metadata": {},
   "outputs": [],
   "source": [
    "# Statistic for Age\n",
    "\n",
    "age_dict = dict(df_drop[\"Age\"].value_counts())\n",
    "\n",
    "age_ratio = []\n",
    "age_labels = []\n",
    "\n",
    "for key in age_dict.keys():\n",
    "    age_labels.append(key)\n",
    "    age_ratio.append(age_dict[key])\n",
    "\n",
    "## print(df_drop[\"Age\"].value_counts())\n",
    "## plt.pie(age_ratio, labels=age_labels, autopct='%.1f%%')\n",
    "## plt.show()\n"
   ]
  },
  {
   "cell_type": "code",
   "execution_count": 18,
   "metadata": {},
   "outputs": [],
   "source": [
    "# Statistic for MBTI\n",
    "MBTI_dict = dict(df_drop['MBTI'].value_counts())\n",
    "\n",
    "MBTI_ratio = []\n",
    "MBTI_labels = []\n",
    "\n",
    "for key in MBTI_dict.keys():\n",
    "    MBTI_labels.append(key)\n",
    "    MBTI_ratio.append(MBTI_dict[key])\n",
    "\n",
    "## print(print(df_drop['MBTI'].value_counts()))\n",
    "## plt.pie(MBTI_ratio, labels=MBTI_labels, autopct='%.1f%%')\n",
    "## plt.show()"
   ]
  },
  {
   "cell_type": "code",
   "execution_count": 55,
   "metadata": {},
   "outputs": [],
   "source": [
    "# Question 통계\n",
    "\n",
    "def q_stat(df_input):\n",
    "    pos = df_input[df_input['Answer'].str.contains(\"<그렇다>\")]\n",
    "    neg = df_input[df_input['Answer'].str.contains(\"<아니다>\")]\n",
    "    neu = df_input[df_input['Answer'].str.contains(\"<중립>\")]\n",
    "\n",
    "    filtered = df_input.drop(pos.index)\n",
    "    filtered = filtered.drop(neg.index)\n",
    "    filtered = filtered.drop(neu.index)\n",
    "\n",
    "    assert filtered.shape[0] + pos.shape[0] + neg.shape[0] + neu.shape[0] == df_input.shape[0]\n",
    "    \n",
    "    return pos, neg, neu, filtered\n",
    "    "
   ]
  },
  {
   "cell_type": "code",
   "execution_count": 42,
   "metadata": {},
   "outputs": [
    {
     "name": "stdout",
     "output_type": "stream",
     "text": [
      "240\n",
      "239\n"
     ]
    },
    {
     "ename": "AssertionError",
     "evalue": "",
     "output_type": "error",
     "traceback": [
      "\u001b[0;31m---------------------------------------------------------------------------\u001b[0m",
      "\u001b[0;31mAssertionError\u001b[0m                            Traceback (most recent call last)",
      "\u001b[1;32m/Users/leeyngdo/workspace/QIA/preprocess.ipynb Cell 8\u001b[0m in \u001b[0;36m<cell line: 3>\u001b[0;34m()\u001b[0m\n\u001b[1;32m     <a href='vscode-notebook-cell:/Users/leeyngdo/workspace/QIA/preprocess.ipynb#X10sZmlsZQ%3D%3D?line=11'>12</a>\u001b[0m     Q_ratio_dict[\u001b[39m\"\u001b[39m\u001b[39mQ\u001b[39m\u001b[39m\"\u001b[39m \u001b[39m+\u001b[39m \u001b[39mstr\u001b[39m(i)] \u001b[39m=\u001b[39m [df_pos\u001b[39m.\u001b[39mshape[\u001b[39m0\u001b[39m], df_neg\u001b[39m.\u001b[39mshape[\u001b[39m0\u001b[39m], df_neu\u001b[39m.\u001b[39mshape[\u001b[39m0\u001b[39m]]\n\u001b[1;32m     <a href='vscode-notebook-cell:/Users/leeyngdo/workspace/QIA/preprocess.ipynb#X10sZmlsZQ%3D%3D?line=13'>14</a>\u001b[0m     \u001b[39mprint\u001b[39m(\u001b[39msum\u001b[39m(Q_ratio_dict[\u001b[39m\"\u001b[39m\u001b[39mQ\u001b[39m\u001b[39m\"\u001b[39m \u001b[39m+\u001b[39m \u001b[39mstr\u001b[39m(i)]))\n\u001b[0;32m---> <a href='vscode-notebook-cell:/Users/leeyngdo/workspace/QIA/preprocess.ipynb#X10sZmlsZQ%3D%3D?line=14'>15</a>\u001b[0m     \u001b[39massert\u001b[39;00m \u001b[39msum\u001b[39m(Q_ratio_dict[\u001b[39m\"\u001b[39m\u001b[39mQ\u001b[39m\u001b[39m\"\u001b[39m \u001b[39m+\u001b[39m \u001b[39mstr\u001b[39m(i)]) \u001b[39m==\u001b[39m num_user\n\u001b[1;32m     <a href='vscode-notebook-cell:/Users/leeyngdo/workspace/QIA/preprocess.ipynb#X10sZmlsZQ%3D%3D?line=15'>16</a>\u001b[0m \u001b[39mprint\u001b[39m(Q_ratio_dict)\n",
      "\u001b[0;31mAssertionError\u001b[0m: "
     ]
    }
   ],
   "source": [
    "# Statistic for Answer\n",
    "\n",
    "# 여기 미완성\n",
    "## Total\n",
    "pos_tot, neg_tot, neu_tot, filtered_tot = q_stat(df)\n",
    "\n",
    "## Each Questions \n",
    "Q_ratio_dict = dict()\n",
    "\n",
    "for i in range(1, num_q + 1):\n",
    "    Q_df = df[df['Q_number'] == i]\n",
    "\n",
    "    assert Q_df.shape[0] == num_user # 모든 유저가 Question i에 대답을 완료하였는지 확인\n",
    "\n",
    "    df_pos_tmp = Q_df[Q_df['Answer'].str.contains(\"<그렇다>\")]\n",
    "    df_neg_tmp = Q_df[Q_df['Answer'].str.contains(\"<아니다>\")]\n",
    "    df_neu_tmp = Q_df[Q_df['Answer'].str.contains(\"<중립>\")]\n",
    "    \n",
    "    df_filtered = df.drop(pos_tot.index)\n",
    "    df_filtered = df_filtered.drop(neg_tot.index)\n",
    "    df_filtered = df_filtered.drop(neu_tot.index)\n",
    "\n",
    "    Q_ratio_dict[\"Q\" + str(i)] = [df_pos_tmp.shape[0], df_neg_tmp.shape[0], df_neu_tmp.shape[0]]\n",
    "\n",
    "    assert sum(Q_ratio_dict[\"Q\" + str(i)]) == num_user\n",
    "\n",
    "print(Q_ratio_dict)\n"
   ]
  }
 ],
 "metadata": {
  "kernelspec": {
   "display_name": "Python 3",
   "language": "python",
   "name": "python3"
  },
  "language_info": {
   "codemirror_mode": {
    "name": "ipython",
    "version": 3
   },
   "file_extension": ".py",
   "mimetype": "text/x-python",
   "name": "python",
   "nbconvert_exporter": "python",
   "pygments_lexer": "ipython3",
   "version": "3.10.4"
  },
  "orig_nbformat": 4
 },
 "nbformat": 4,
 "nbformat_minor": 2
}
